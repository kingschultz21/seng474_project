{
 "cells": [
  {
   "cell_type": "markdown",
   "metadata": {},
   "source": [
    "# Initial Data Expoloration of Cars Dataset"
   ]
  },
  {
   "cell_type": "markdown",
   "execution_count": null,
   "metadata": {},
   "outputs": [],
   "source": [
    "### Load required packages"
   ]
  },
  {
   "cell_type": "code",
   "execution_count": 1,
   "metadata": {},
   "outputs": [],
   "source": [
    "import os\n",
    "import pandas as pd\n",
    "import numpy as np\n",
    "import matplotlib.pyplot as plt\n",
    "import seaborn as sns"
   ]
  },
  {
   "cell_type": "markdown",
   "metadata": {},
   "source": [
    "### Read in Processed Cars dataset\n",
    "(Original dataset 'fullspecs.csv' Processed using data_cleaner.py)"
   ]
  },
  {
   "cell_type": "code",
   "execution_count": 2,
   "metadata": {},
   "outputs": [
    {
     "name": "stderr",
     "output_type": "stream",
     "text": "/home/connor/.local/lib/python3.6/site-packages/IPython/core/interactiveshell.py:3058: DtypeWarning: Columns (13) have mixed types. Specify dtype option on import or set low_memory=False.\n  interactivity=interactivity, compiler=compiler, result=result)\n"
    }
   ],
   "source": [
    "cwd = os.getcwd()\n",
    "cars = pd.read_csv(cwd+\"/car_data/proc_cars.csv\")\n",
    "cars = cars.drop(columns = ['Unnamed: 0'])"
   ]
  },
  {
   "cell_type": "markdown",
   "execution_count": null,
   "metadata": {},
   "outputs": [],
   "source": [
    "### Explore Cars data"
   ]
  },
  {
   "cell_type": "code",
   "execution_count": 3,
   "metadata": {},
   "outputs": [
    {
     "data": {
      "text/plain": "MSRP                                 0\nGas Mileage                          0\nDrivetrain                           0\nPassenger Capacity                   0\nPassenger Doors                      0\nBody Style                           0\nTransmission                         0\nWheelbase (in)                       0\nWidth, Max w/o mirrors (in)          0\nHeight, Overall (in)                 0\nFuel Tank Capacity, Approx (gal)     0\nEPA Fuel Economy Est - City (MPG)    0\nEPA Fuel Economy Est - Hwy (MPG)     0\nSAE Net Torque @ RPM                 0\nEngine Type                          0\nSAE Net Horsepower @ RPM             0\nDisplacement                         0\nAir Bag-Frontal-Driver               0\nAir Bag-Frontal-Passenger            0\nAir Bag-Passenger Switch (On/Off)    0\nAir Bag-Side Body-Front              0\nAir Bag-Side Body-Rear               0\nAir Bag-Side Head-Front              0\nAir Bag-Side Head-Rear               0\nBrakes-ABS                           0\nChild Safety Rear Door Locks         0\nDaytime Running Lights               0\nTraction Control                     0\nNight Vision                         0\nRollover Protection Bars             0\nFog Lamps                            0\nParking Aid                          0\nTire Pressure Monitor                0\nBack-Up Camera                       0\nStability Control                    0\ndtype: int64"
     },
     "execution_count": 3,
     "metadata": {},
     "output_type": "execute_result"
    }
   ],
   "source": [
    "# NA values... may need to trim these\n",
    "cars.isna().sum().sum()"
   ]
  },
  {
   "cell_type": "code",
   "execution_count": 47,
   "metadata": {},
   "outputs": [
    {
     "data": {
      "text/plain": "MSRP                                 19797\nGas Mileage                          19797\nEngine                               19797\nEPA Class                            19797\nStyle Name                           19797\nDrivetrain                           19797\nPassenger Capacity                   19797\nPassenger Doors                      19797\nBody Style                           19797\nTransmission                         19797\nFront Hip Room (in)                  19797\nFront Leg Room (in)                  19797\nSecond Shoulder Room (in)            19797\nSecond Head Room (in)                19797\nFront Shoulder Room (in)             19797\nSecond Hip Room (in)                 19797\nFront Head Room (in)                 19797\nSecond Leg Room (in)                 19797\nWheelbase (in)                       19797\nWidth, Max w/o mirrors (in)          19797\nHeight, Overall (in)                 19797\nFuel Tank Capacity, Approx (gal)     19797\nEPA Fuel Economy Est - City (MPG)    19797\nEPA Fuel Economy Est - Hwy (MPG)     19797\nSAE Net Torque @ RPM                 19797\nFuel System                          19797\nEngine Type                          19797\nSAE Net Horsepower @ RPM             19797\nDisplacement                         19797\nAir Bag-Frontal-Driver               19797\nAir Bag-Frontal-Passenger            19797\nAir Bag-Passenger Switch (On/Off)    19797\nAir Bag-Side Body-Front              19797\nAir Bag-Side Body-Rear               19797\nAir Bag-Side Head-Front              19797\nAir Bag-Side Head-Rear               19797\nBrakes-ABS                           19797\nChild Safety Rear Door Locks         19797\nDaytime Running Lights               19797\nTraction Control                     19797\nNight Vision                         19797\nRollover Protection Bars             19797\nFog Lamps                            19797\nParking Aid                          19797\nTire Pressure Monitor                19797\nBack-Up Camera                       19797\nStability Control                    19797\ndtype: int64"
     },
     "execution_count": 47,
     "metadata": {},
     "output_type": "execute_result"
    }
   ],
   "source": [
    "cars.count()\n",
    "\n"
   ]
  },
  {
   "cell_type": "code",
   "execution_count": 48,
   "metadata": {},
   "outputs": [
    {
     "data": {
      "text/plain": "frontwheeldrive    6841\nrearwheeldrive     4853\nallwheeldrive      3887\n4wheeldrive        2058\nfourwheeldrive     1845\nawd                  37\n4wd                  17\n2wheeldrive          15\n2wd                   9\nrwd                   3\nName: Drivetrain, dtype: int64"
     },
     "execution_count": 48,
     "metadata": {},
     "output_type": "execute_result"
    }
   ],
   "source": [
    "value_counts = cars['Engine Type'].value_counts()\n",
    "remove = value_counts[value_counts <= 10].index\n",
    "cars = cars[~cars['Engine Type'].isin(remove)]\n",
    "cars['Engine Type'].value_counts()\n",
    "\n",
    "value_counts = cars['Drivetrain'].value_counts()\n",
    "#remove = value_counts[value_counts <= 10].index\n",
    "#cars = cars[~cars['Drivetrain'].isin(remove)]\n",
    "cars['Drivetrain'].value_counts()\n"
   ]
  },
  {
   "cell_type": "code",
   "execution_count": 61,
   "metadata": {},
   "outputs": [
    {
     "data": {
      "text/plain": "gas i4, 2.0l                       869\ngas v6, 3.5l                       863\ngas v6, 3.6l                       689\ngas i4, 2.4l                       636\ngas i4, 1.8l                       603\n                                  ... \nlow-pressure turbo gas i5, 2.4l      1\ngas i6, 3.6l                         1\ngas i6, 2.9l                         1\ndiesel v6, 3.0                       1\ngas flat 4 cyl, 1.8l                 1\nName: Engine, Length: 281, dtype: int64"
     },
     "execution_count": 61,
     "metadata": {},
     "output_type": "execute_result"
    }
   ],
   "source": [
    "cars['Engine'].value_counts()"
   ]
  },
  {
   "cell_type": "code",
   "execution_count": null,
   "metadata": {},
   "outputs": [],
   "source": []
  }
 ],
 "metadata": {
  "kernelspec": {
   "display_name": "Python 3",
   "language": "python",
   "name": "python3"
  },
  "language_info": {
   "codemirror_mode": {
    "name": "ipython",
    "version": 3
   },
   "file_extension": ".py",
   "mimetype": "text/x-python",
   "name": "python",
   "nbconvert_exporter": "python",
   "pygments_lexer": "ipython3",
   "version": "3.6.6"
  }
 },
 "nbformat": 4,
 "nbformat_minor": 4
}