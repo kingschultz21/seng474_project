{
 "cells": [
  {
   "cell_type": "markdown",
   "metadata": {},
   "source": [
    "# Initial Data Expoloration of Cars Dataset"
   ]
  },
  {
   "cell_type": "markdown",
   "execution_count": null,
   "metadata": {},
   "outputs": [],
   "source": [
    "### Load required packages"
   ]
  },
  {
   "cell_type": "code",
   "execution_count": 8,
   "metadata": {},
   "outputs": [],
   "source": [
    "import os\n",
    "import pandas as pd\n",
    "import numpy as np\n",
    "import matplotlib.pyplot as plt\n",
    "import seaborn as sns"
   ]
  },
  {
   "cell_type": "markdown",
   "metadata": {},
   "source": [
    "### Read in Processed Cars dataset\n",
    "(Original dataset 'fullspecs.csv' Processed using data_cleaner.py)"
   ]
  },
  {
   "cell_type": "code",
   "execution_count": 39,
   "metadata": {},
   "outputs": [
    {
     "name": "stderr",
     "output_type": "stream",
     "text": "/home/connor/.local/lib/python3.6/site-packages/IPython/core/interactiveshell.py:3058: DtypeWarning: Columns (12,13,15,19,20,21,22,24) have mixed types. Specify dtype option on import or set low_memory=False.\n  interactivity=interactivity, compiler=compiler, result=result)\n"
    }
   ],
   "source": [
    "cwd = os.getcwd()\n",
    "cars = pd.read_csv(cwd+\"/car_data/proc_cars.csv\")\n",
    "cars = cars.drop(columns = ['Unnamed: 0'])"
   ]
  },
  {
   "cell_type": "markdown",
   "execution_count": null,
   "metadata": {},
   "outputs": [],
   "source": [
    "### Explore Cars data"
   ]
  },
  {
   "cell_type": "code",
   "execution_count": 40,
   "metadata": {},
   "outputs": [
    {
     "data": {
      "text/plain": "MSRP                                 0\nGas Mileage                          0\nEngine                               0\nEPA Class                            0\nStyle Name                           0\nDrivetrain                           0\nPassenger Capacity                   0\nPassenger Doors                      0\nBody Style                           0\nTransmission                         0\nFront Hip Room (in)                  0\nFront Leg Room (in)                  0\nSecond Shoulder Room (in)            0\nSecond Head Room (in)                0\nFront Shoulder Room (in)             0\nSecond Hip Room (in)                 0\nFront Head Room (in)                 0\nSecond Leg Room (in)                 0\nWheelbase (in)                       0\nWidth, Max w/o mirrors (in)          0\nHeight, Overall (in)                 0\nFuel Tank Capacity, Approx (gal)     0\nEPA Fuel Economy Est - City (MPG)    0\nEPA Fuel Economy Est - Hwy (MPG)     0\nSAE Net Torque @ RPM                 0\nFuel System                          0\nEngine Type                          0\nSAE Net Horsepower @ RPM             0\nDisplacement                         0\nAir Bag-Frontal-Driver               0\nAir Bag-Frontal-Passenger            0\nAir Bag-Passenger Switch (On/Off)    0\nAir Bag-Side Body-Front              0\nAir Bag-Side Body-Rear               0\nAir Bag-Side Head-Front              0\nAir Bag-Side Head-Rear               0\nBrakes-ABS                           0\nChild Safety Rear Door Locks         0\nDaytime Running Lights               0\nTraction Control                     0\nNight Vision                         0\nRollover Protection Bars             0\nFog Lamps                            0\nParking Aid                          0\nTire Pressure Monitor                0\nBack-Up Camera                       0\nStability Control                    0\ndtype: int64"
     },
     "execution_count": 40,
     "metadata": {},
     "output_type": "execute_result"
    }
   ],
   "source": [
    "# NA values... may need to trim these\n",
    "cars.isna().sum()"
   ]
  },
  {
   "cell_type": "code",
   "execution_count": 41,
   "metadata": {},
   "outputs": [
    {
     "data": {
      "text/plain": "MSRP                                 19797\nGas Mileage                          19797\nEngine                               19797\nEPA Class                            19797\nStyle Name                           19797\nDrivetrain                           19797\nPassenger Capacity                   19797\nPassenger Doors                      19797\nBody Style                           19797\nTransmission                         19797\nFront Hip Room (in)                  19797\nFront Leg Room (in)                  19797\nSecond Shoulder Room (in)            19797\nSecond Head Room (in)                19797\nFront Shoulder Room (in)             19797\nSecond Hip Room (in)                 19797\nFront Head Room (in)                 19797\nSecond Leg Room (in)                 19797\nWheelbase (in)                       19797\nWidth, Max w/o mirrors (in)          19797\nHeight, Overall (in)                 19797\nFuel Tank Capacity, Approx (gal)     19797\nEPA Fuel Economy Est - City (MPG)    19797\nEPA Fuel Economy Est - Hwy (MPG)     19797\nSAE Net Torque @ RPM                 19797\nFuel System                          19797\nEngine Type                          19797\nSAE Net Horsepower @ RPM             19797\nDisplacement                         19797\nAir Bag-Frontal-Driver               19797\nAir Bag-Frontal-Passenger            19797\nAir Bag-Passenger Switch (On/Off)    19797\nAir Bag-Side Body-Front              19797\nAir Bag-Side Body-Rear               19797\nAir Bag-Side Head-Front              19797\nAir Bag-Side Head-Rear               19797\nBrakes-ABS                           19797\nChild Safety Rear Door Locks         19797\nDaytime Running Lights               19797\nTraction Control                     19797\nNight Vision                         19797\nRollover Protection Bars             19797\nFog Lamps                            19797\nParking Aid                          19797\nTire Pressure Monitor                19797\nBack-Up Camera                       19797\nStability Control                    19797\ndtype: int64"
     },
     "execution_count": 41,
     "metadata": {},
     "output_type": "execute_result"
    }
   ],
   "source": [
    "cars.count()\n",
    "\n"
   ]
  },
  {
   "cell_type": "code",
   "execution_count": 42,
   "metadata": {},
   "outputs": [
    {
     "data": {
      "text/plain": "FrontWheelDrive    6801\nRearWheelDrive     4759\nAllWheelDrive      3847\n4WheelDrive        2055\nFourWheelDrive     1827\nRearwheeldrive       73\nFrontwheeldrive      40\nAWD                  37\nAllwheeldrive        18\nFourwheeldrive       18\n4WD                  17\n2WheelDrive          15\nREARWHEELDRIVE       15\nName: Drivetrain, dtype: int64"
     },
     "execution_count": 42,
     "metadata": {},
     "output_type": "execute_result"
    }
   ],
   "source": [
    "value_counts = cars['Engine Type'].value_counts()\n",
    "remove = value_counts[value_counts <= 10].index\n",
    "cars = cars[~cars['Engine Type'].isin(remove)]\n",
    "cars['Engine Type'].value_counts()\n",
    "\n",
    "value_counts = cars['Drivetrain'].value_counts()\n",
    "remove = value_counts[value_counts <= 10].index\n",
    "cars = cars[~cars['Drivetrain'].isin(remove)]\n",
    "cars['Drivetrain'].value_counts()\n"
   ]
  },
  {
   "cell_type": "code",
   "execution_count": 38,
   "metadata": {},
   "outputs": [
    {
     "data": {
      "text/plain": "15 mpg City/21 mpg Hwy    586\n18 mpg City/25 mpg Hwy    475\n14 mpg City/18 mpg Hwy    466\n17 mpg City/24 mpg Hwy    452\n16 mpg City/23 mpg Hwy    424\n                         ... \n46 mpg City/51 mpg Hwy      1\n21 mpg City/23 mpg Hwy      1\n31 mpg City/39 mpg Hwy      1\n36 mpg City/43 mpg Hwy      1\n10 mpg City/13 mpg Hwy      1\nName: Gas Mileage, Length: 266, dtype: int64"
     },
     "execution_count": 38,
     "metadata": {},
     "output_type": "execute_result"
    }
   ],
   "source": [
    "cars['Night Vision'].value_counts()"
   ]
  },
  {
   "cell_type": "code",
   "execution_count": null,
   "metadata": {},
   "outputs": [],
   "source": []
  }
 ],
 "metadata": {
  "kernelspec": {
   "display_name": "Python 3",
   "language": "python",
   "name": "python3"
  },
  "language_info": {
   "codemirror_mode": {
    "name": "ipython",
    "version": 3
   },
   "file_extension": ".py",
   "mimetype": "text/x-python",
   "name": "python",
   "nbconvert_exporter": "python",
   "pygments_lexer": "ipython3",
   "version": "3.6.6"
  }
 },
 "nbformat": 4,
 "nbformat_minor": 4
}