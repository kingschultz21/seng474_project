{
 "cells": [
  {
   "cell_type": "markdown",
   "metadata": {},
   "source": [
    "# Initial Data Expoloration of Cars Dataset"
   ]
  },
  {
   "cell_type": "markdown",
   "execution_count": null,
   "metadata": {},
   "outputs": [],
   "source": [
    "### Load required packages"
   ]
  },
  {
   "cell_type": "code",
   "execution_count": 1,
   "metadata": {},
   "outputs": [],
   "source": [
    "import os\n",
    "import pandas as pd\n",
    "import numpy as np\n",
    "import matplotlib.pyplot as plt\n",
    "import seaborn as sns"
   ]
  },
  {
   "cell_type": "markdown",
   "metadata": {},
   "source": [
    "### Read in Processed Cars dataset\n",
    "(Original dataset 'fullspecs.csv' Processed using data_cleaner.py)"
   ]
  },
  {
   "cell_type": "code",
   "execution_count": 21,
   "metadata": {},
   "outputs": [],
   "source": [
    "cwd = os.getcwd()\n",
    "cars = pd.read_csv(cwd+\"/car_data/proc_cars.csv\")\n",
    "cars = cars.drop(columns = ['Unnamed: 0'])"
   ]
  },
  {
   "cell_type": "markdown",
   "execution_count": null,
   "metadata": {},
   "outputs": [],
   "source": [
    "### Explore Cars data"
   ]
  },
  {
   "cell_type": "code",
   "execution_count": 22,
   "metadata": {},
   "outputs": [
    {
     "data": {
      "text/plain": "MSRP                                     0\nGas Mileage                           5993\nEngine                                1974\nEPA Class                             1976\nStyle Name                               0\nDrivetrain                            1716\nPassenger Capacity                       0\nPassenger Doors                          0\nBody Style                            1716\nTransmission                          2711\nEPA Classification                   12397\nBase Curb Weight (lbs)               12606\nFront Hip Room (in)                   4688\nFront Leg Room (in)                   2489\nSecond Shoulder Room (in)             5679\nPassenger Volume (ft³)               14135\nSecond Head Room (in)                 5644\nFront Shoulder Room (in)              2529\nSecond Hip Room (in)                  7656\nFront Head Room (in)                  2539\nSecond Leg Room (in)                  5630\nWheelbase (in)                        1971\nMin Ground Clearance (in)            14482\nTrack Width, Front (in)              11856\nWidth, Max w/o mirrors (in)           2050\nTrack Width, Rear (in)               11857\nHeight, Overall (in)                  2032\nCargo Volume to Seat 1 (ft³)         22522\nCargo Volume to Seat 2 (ft³)         22518\nCargo Volume to Seat 3 (ft³)         26416\nFuel Tank Capacity, Approx (gal)      2133\nFuel Economy Est-Combined (MPG)      14662\nEPA Fuel Economy Est - City (MPG)     5133\nEPA Fuel Economy Est - Hwy (MPG)      5133\nSAE Net Torque @ RPM                  2025\nFuel System                           2362\nEngine Type                           1974\nSAE Net Horsepower @ RPM              2007\nDisplacement                          2137\nAir Bag-Frontal-Driver                   0\nAir Bag-Frontal-Passenger                0\nAir Bag-Passenger Switch (On/Off)        0\nAir Bag-Side Body-Front                  0\nAir Bag-Side Body-Rear                   0\nAir Bag-Side Head-Front                  0\nAir Bag-Side Head-Rear                   0\nBrakes-ABS                               0\nChild Safety Rear Door Locks             0\nDaytime Running Lights                   0\nTraction Control                         0\nNight Vision                             0\nRollover Protection Bars                 0\nFog Lamps                                0\nParking Aid                              0\nTire Pressure Monitor                    0\nBack-Up Camera                           0\nStability Control                        0\ndtype: int64"
     },
     "execution_count": 22,
     "metadata": {},
     "output_type": "execute_result"
    }
   ],
   "source": [
    "# NA values... may need to trim these\n",
    "cars.isna().sum()"
   ]
  },
  {
   "cell_type": "code",
   "execution_count": 35,
   "metadata": {},
   "outputs": [
    {
     "data": {
      "text/plain": "Gas I4, 2.0L                                     1050\nGas V8, 6.0L                                     1025\nGas V6, 3.5L                                     1011\nIntercooled Turbo Premium Unleaded I-4, 2.0 L     964\nGas I4, 2.4L                                      755\n                                                 ... \nTurbocharged Gas V12, 5.5L                          1\nGas/Electric V-8, 5.7 L                             1\nTurbocharged Gas/Plug-in Electric I4, 2.0L          1\nGas V12, 6.8L                                       1\nSupercharged Gas/Electric V6, 3.0                   1\nName: Engine, Length: 450, dtype: int64"
     },
     "execution_count": 35,
     "metadata": {},
     "output_type": "execute_result"
    }
   ],
   "source": [
    "cars.head()\n",
    "#cars.Drivetrain.value_counts()\n",
    "cars[\"Engine\"].value_counts()\n",
    "\n"
   ]
  },
  {
   "cell_type": "code",
   "execution_count": null,
   "metadata": {},
   "outputs": [],
   "source": []
  }
 ],
 "metadata": {
  "kernelspec": {
   "display_name": "Python 3",
   "language": "python",
   "name": "python3"
  },
  "language_info": {
   "codemirror_mode": {
    "name": "ipython",
    "version": 3
   },
   "file_extension": ".py",
   "mimetype": "text/x-python",
   "name": "python",
   "nbconvert_exporter": "python",
   "pygments_lexer": "ipython3",
   "version": "3.6.6"
  }
 },
 "nbformat": 4,
 "nbformat_minor": 4
}