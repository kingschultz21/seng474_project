{
 "cells": [
  {
   "cell_type": "markdown",
   "metadata": {},
   "source": [
    "# Initial Data Expoloration of Cars Dataset"
   ]
  },
  {
   "cell_type": "markdown",
   "execution_count": null,
   "metadata": {},
   "outputs": [],
   "source": [
    "### Load required packages"
   ]
  },
  {
   "cell_type": "code",
   "execution_count": 151,
   "metadata": {},
   "outputs": [],
   "source": [
    "import os\n",
    "import pandas as pd\n",
    "import numpy as np\n",
    "import matplotlib.pyplot as plt\n",
    "import seaborn as sns"
   ]
  },
  {
   "cell_type": "markdown",
   "metadata": {},
   "source": [
    "### Read in Processed Cars dataset\n",
    "(Original dataset 'fullspecs.csv' Processed using data_cleaner.py)"
   ]
  },
  {
   "cell_type": "code",
   "execution_count": 167,
   "metadata": {},
   "outputs": [],
   "source": [
    "cwd = os.getcwd()\n",
    "cars = pd.read_csv(cwd+\"/car_data/proc_cars.csv\")\n",
    "cars = cars.drop(columns = ['Unnamed: 0'])"
   ]
  },
  {
   "cell_type": "markdown",
   "execution_count": null,
   "metadata": {},
   "outputs": [],
   "source": [
    "### Explore Cars data"
   ]
  },
  {
   "cell_type": "code",
   "execution_count": 166,
   "metadata": {},
   "outputs": [
    {
     "ename": "AttributeError",
     "evalue": "'NoneType' object has no attribute 'dtypes'",
     "output_type": "error",
     "traceback": [
      "\u001b[0;31m---------------------------------------------------------------------------\u001b[0m",
      "\u001b[0;31mAttributeError\u001b[0m                            Traceback (most recent call last)",
      "\u001b[0;32m<ipython-input-166-e702578d26fe>\u001b[0m in \u001b[0;36m<module>\u001b[0;34m\u001b[0m\n\u001b[1;32m      1\u001b[0m \u001b[0;31m#data types in df\u001b[0m\u001b[0;34m\u001b[0m\u001b[0;34m\u001b[0m\u001b[0m\n\u001b[0;32m----> 2\u001b[0;31m \u001b[0mcars\u001b[0m\u001b[0;34m.\u001b[0m\u001b[0mdtypes\u001b[0m\u001b[0;34m\u001b[0m\u001b[0m\n\u001b[0m",
      "\u001b[0;31mAttributeError\u001b[0m: 'NoneType' object has no attribute 'dtypes'"
     ]
    }
   ],
   "source": [
    "#data types in df\n",
    "cars.dtypes"
   ]
  },
  {
   "cell_type": "code",
   "execution_count": 165,
   "metadata": {},
   "outputs": [
    {
     "ename": "TypeError",
     "evalue": "'NoneType' object is not subscriptable",
     "output_type": "error",
     "traceback": [
      "\u001b[0;31m---------------------------------------------------------------------------\u001b[0m",
      "\u001b[0;31mTypeError\u001b[0m                                 Traceback (most recent call last)",
      "\u001b[0;32m<ipython-input-165-452964f95ff8>\u001b[0m in \u001b[0;36m<module>\u001b[0;34m\u001b[0m\n\u001b[1;32m      1\u001b[0m \u001b[0;31m#accessing encoded variables\u001b[0m\u001b[0;34m\u001b[0m\u001b[0;34m\u001b[0m\u001b[0m\n\u001b[0;32m----> 2\u001b[0;31m \u001b[0mcars\u001b[0m\u001b[0;34m[\u001b[0m\u001b[0mcars\u001b[0m\u001b[0;34m[\u001b[0m\u001b[0;34m'HEIGHT'\u001b[0m\u001b[0;34m]\u001b[0m \u001b[0;34m==\u001b[0m \u001b[0;36m0\u001b[0m\u001b[0;34m]\u001b[0m\u001b[0;34m.\u001b[0m\u001b[0msum\u001b[0m\u001b[0;34m(\u001b[0m\u001b[0;34m)\u001b[0m \u001b[0;31m# for label encoder\u001b[0m\u001b[0;34m\u001b[0m\u001b[0m\n\u001b[0m\u001b[1;32m      3\u001b[0m \u001b[0;31m#cars['DRIVETRAIN_fwd'].value_counts() # for binary encoder\u001b[0m\u001b[0;34m\u001b[0m\u001b[0;34m\u001b[0m\u001b[0m\n\u001b[1;32m      4\u001b[0m \u001b[0;34m\u001b[0m\u001b[0m\n\u001b[1;32m      5\u001b[0m \u001b[0;34m\u001b[0m\u001b[0m\n",
      "\u001b[0;31mTypeError\u001b[0m: 'NoneType' object is not subscriptable"
     ]
    }
   ],
   "source": [
    "#accessing encoded variables\n",
    "cars[cars['HEIGHT'] == 0].sum() # for label encoder\n",
    "#cars['DRIVETRAIN_fwd'].value_counts() # for binary encoder\n",
    "\n",
    "\n"
   ]
  },
  {
   "cell_type": "code",
   "execution_count": 175,
   "metadata": {},
   "outputs": [
    {
     "name": "stdout",
     "output_type": "stream",
     "text": "58.0\n58.0\n58.0\n72.0\n72.0\n72.0\n72.0\n72.0\n58.0\n58.0\n58.0\n58.0\n58.0\n58.0\n58.0\n56.0\n56.0\n56.0\n56.0\n56.0\n56.0\n69.0\n69.0\n69.0\n69.0\n69.0\n69.0\n69.0\n69.0\n69.0\n56.0\n56.0\n56.0\n56.0\n56.0\n56.0\n56.0\n56.0\n69.0\n56.0\n56.0\n56.0\n56.0\n56.0\n56.0\n56.0\n56.0\n56.0\n56.0\n56.0\n56.0\n56.0\n56.0\n56.0\n69.0\n69.0\n69.0\n69.0\n69.0\n69.0\n69.0\n69.0\n69.0\n56.0\n56.0\n56.0\n56.0\n60.0\n60.0\n60.0\n60.0\n60.0\n60.0\n56.0\n56.0\n56.0\n56.0\n56.0\n56.0\n56.0\n54.0\n54.0\n54.0\n54.0\n54.0\n54.0\n54.0\n54.0\n54.0\n54.0\n54.0\n54.0\n54.0\n54.0\n54.0\n54.0\n54.0\n54.0\n54.0\n54.0\n54.0\n54.0\n54.0\n54.0\n54.0\n56.0\n56.0\n56.0\n56.0\n56.0\n56.0\n56.0\n56.0\n56.0\n56.0\n56.0\n56.0\n56.0\n56.0\n56.0\n56.0\n56.0\n56.0\n56.0\n56.0\n56.0\n56.0\n56.0\n56.0\n56.0\n56.0\n56.0\n68.0\n68.0\n68.0\n68.0\n68.0\n68.0\n68.0\n68.0\n68.0\n68.0\n68.0\n68.0\n68.0\n68.0\n68.0\n68.0\n68.0\n68.0\n68.0\n68.0\n68.0\n56.0\n56.0\n56.0\n56.0\n56.0\n56.0\n56.0\n56.0\n56.0\n56.0\n56.0\n56.0\n56.0\n56.0\n56.0\n56.0\n56.0\n56.0\n56.0\n56.0\n56.0\n56.0\n56.0\n56.0\n56.0\n56.0\n56.0\n56.0\n56.0\n56.0\n56.0\n56.0\n56.0\n56.0\n56.0\n56.0\n56.0\n68.0\n68.0\n68.0\n68.0\n68.0\n68.0\n68.0\n68.0\n68.0\n68.0\n68.0\n68.0\n68.0\n68.0\n68.0\n68.0\n68.0\n68.0\n68.0\n68.0\n68.0\n68.0\n55.0\n55.0\n55.0\n55.0\n55.0\n55.0\n56.0\n56.0\n56.0\n56.0\n56.0\n56.0\n55.0\n55.0\n55.0\n55.0\n55.0\n55.0\n55.0\n55.0\n55.0\n55.0\n55.0\n55.0\n55.0\n55.0\n55.0\n55.0\n55.0\n55.0\n7.3\n7.3\n7.3\n7.3\n7.3\n7.3\n7.3\n7.3\n7.3\n7.3\n7.3\n55.0\n55.0\n55.0\n55.0\n55.0\n55.0\n7.3\n7.3\n7.3\n55.0\n55.0\n55.0\n55.0\n55.0\n55.0\n55.0\n55.0\n56.0\n56.0\n56.0\n56.0\n56.0\n56.0\n55.0\n55.0\n55.0\n55.0\n55.0\n55.0\n55.0\n55.0\n55.0\n7.3\n7.3\n7.3\n7.3\n7.3\n55.0\n7.3\n7.3\n7.3\n55.0\n55.0\n55.0\n55.0\n55.0\n55.0\n55.0\n56.0\n56.0\n55.0\n55.0\n55.0\n55.0\n55.0\n55.0\n7.3\n7.3\n7.3\n7.3\n7.3\n55.0\n55.0\n55.0\n7.3\n7.3\n7.3\n55.0\n55.0\n55.0\n55.0\n55.0\n55.0\n56.0\n55.0\n55.0\n55.0\n7.3\n55.0\n55.0\n7.3\n55.0\n55.0\n55.0\n56.0\n56.0\n55.0\n55.0\n7.3\n7.3\n7.3\n7.3\n7.3\n7.3\n7.3\n7.3\n7.3\n7.3\n7.3\n7.3\n7.3\n7.3\n7.3\n7.3\n7.3\n7.3\n7.3\n56.0\n55.0\n55.0\n55.0\n55.0\n55.0\n55.0\n55.0\n55.0\n55.0\n55.0\n55.0\n55.0\n55.0\n55.0\n55.0\n55.0\n55.0\n55.0\n54.0\n55.0\n55.0\n55.0\n55.0\n55.0\n55.0\n55.0\n55.0\n55.0\n54.0\n54.0\n54.0\n54.0\n55.0\n55.0\n55.0\n55.0\n54.0\n55.0\n55.0\n55.0\n54.0\n54.0\n68.0\n68.0\n68.0\n68.0\n68.0\n68.0\n68.0\n68.0\n68.0\n56.0\n56.0\n56.0\n56.0\n56.0\n56.0\n56.0\n56.0\n56.0\n56.0\n56.0\n56.0\n56.0\n56.0\n56.0\n56.0\n56.0\n56.0\n56.0\n56.0\n56.0\n56.0\n56.0\n56.0\n56.0\n56.0\n56.0\n56.0\n56.0\n56.0\n56.0\n56.0\n56.0\n56.0\n56.0\n56.0\n56.0\n56.0\n56.0\n56.0\n56.0\n56.0\n56.0\n56.0\n56.0\n56.0\n56.0\n56.0\n56.0\n56.0\n56.0\n56.0\n56.0\n56.0\n56.0\n56.0\n56.0\n56.0\n56.0\n56.0\n56.0\n56.0\n56.0\n56.0\n56.0\n56.0\n56.0\n56.0\n56.0\n56.0\n56.0\n56.0\n56.0\n56.0\n56.0\n56.0\n56.0\n56.0\n56.0\n56.0\n56.0\n56.0\n56.0\n56.0\n56.0\n56.0\n56.0\n56.0\n56.0\n56.0\n56.0\n56.0\n56.0\n56.0\n56.0\n56.0\n56.0\n56.0\n56.0\n56.0\n56.0\n56.0\n56.0\n56.0\n56.0\n56.0\n56.0\n56.0\n56.0\n56.0\n56.0\n56.0\n56.0\n56.0\n56.0\n56.0\n56.0\n56.0\n56.0\n56.0\n56.0\n56.0\n56.0\n56.0\n56.0\n56.0\n56.0\n56.0\n56.0\n56.0\n56.0\n56.0\n56.0\n56.0\n56.0\n56.0\n56.0\n56.0\n56.0\n56.0\n55.0\n55.0\n55.0\n55.0\n56.0\n56.0\n56.0\n56.0\n56.0\n56.0\n56.0\n56.0\n56.0\n56.0\n56.0\n56.0\n56.0\n56.0\n56.0\n56.0\n56.0\n56.0\n56.0\n56.0\n56.0\n56.0\n56.0\n56.0\n56.0\n56.0\n56.0\n56.0\n56.0\n56.0\n56.0\n56.0\n56.0\n56.0\n55.0\n55.0\n55.0\n54.0\n8.2\n8.2\n54.0\n54.0\n54.0\n54.0\n8.2\n8.2\n54.0\n54.0\n54.0\n8.2\n8.2\n8.2\n54.0\n54.0\n54.0\n54.0\n8.2\n8.2\n8.2\n730.0\n55.0\n55.0\n55.0\n730.0\n730.0\n730.0\n730.0\n72.0\n72.0\n72.0\n72.0\n55.0\n55.0\n55.0\n55.0\n55.0\n55.0\n55.0\n55.0\n55.0\n55.0\n55.0\n55.0\n55.0\n55.0\n66.0\n66.0\n66.0\n66.0\n66.0\n58.0\n58.0\n58.0\n58.0\n56.0\n56.0\n56.0\n56.0\n56.0\n820.0\n820.0\n820.0\n820.0\n66.0\n66.0\n66.0\n66.0\n66.0\n66.0\n66.0\n66.0\n73.0\n73.0\n73.0\n73.0\n73.0\n55.0\n55.0\n55.0\n55.0\n55.0\n53.0\n53.0\n53.0\n53.0\n53.0\n55.0\n55.0\n55.0\n55.0\n55.0\n7.3\n7.3\n7.3\n7.3\n7.3\n7.3\n55.0\n55.0\n55.0\n55.0\n7.3\n7.3\n55.0\n55.0\n55.0\n55.0\n55.0\n55.0\n55.0\n55.0\n55.0\n7.3\n55.0\n55.0\n55.0\n55.0\n55.0\n55.0\n55.0\n55.0\n7.3\n7.3\n7.3\n7.3\n55.0\n55.0\n55.0\n55.0\n56.0\n55.0\n55.0\n55.0\n55.0\n55.0\n7.3\n7.3\n7.3\n7.3\n55.0\n55.0\n7.3\n7.3\n55.0\n55.0\n55.0\n56.0\n56.0\n56.0\n55.0\n7.3\n7.3\n7.3\n7.3\n7.3\n7.3\n7.3\n7.3\n7.3\n7.3\n7.3\n7.3\n7.3\n7.3\n7.3\n7.3\n7.3\n7.3\n7.3\n7.3\n7.3\n7.3\n56.0\n56.0\n56.0\n56.0\n56.0\n56.0\n56.0\n56.0\n56.0\n56.0\n56.0\n56.0\n56.0\n56.0\n56.0\n56.0\n56.0\n56.0\n56.0\n56.0\n56.0\n56.0\n56.0\n56.0\n56.0\n56.0\n56.0\n56.0\n56.0\n56.0\n56.0\n55.0\n56.0\n56.0\n56.0\n56.0\n56.0\n56.0\n56.0\n56.0\n56.0\n56.0\n56.0\n56.0\n56.0\n56.0\n56.0\n56.0\n56.0\n56.0\n56.0\n56.0\n56.0\n56.0\n56.0\n56.0\n56.0\n56.0\n56.0\n56.0\n56.0\n56.0\n56.0\n56.0\n56.0\n56.0\n56.0\n56.0\n56.0\n56.0\n56.0\n56.0\n56.0\n56.0\n56.0\n55.0\n7.3\n7.3\n55.0\n54.0\n8.2\n8.2\n54.0\n54.0\n54.0\n54.0\n8.2\n8.2\n54.0\n54.0\n54.0\n8.2\n54.0\n54.0\n8.2\n8.2\n8.2\n54.0\n8.2\n8.2\n54.0\n54.0\n54.0\n54.0\n54.0\n54.0\n54.0\n56.0\n55.0\n820.0\n65.0\n65.0\n65.0\n65.0\n65.0\n65.0\n820.0\n820.0\n820.0\n58.0\n58.0\n58.0\n58.0\n58.0\n58.0\n58.0\n58.0\n58.0\n58.0\n58.0\n58.0\n56.0\n72.0\n72.0\n72.0\n72.0\n56.0\n56.0\n56.0\n56.0\n56.0\n56.0\n56.0\n56.0\n56.0\n72.0\n72.0\n72.0\n65.0\n66.0\n66.0\n66.0\n66.0\n66.0\n66.0\n66.0\n66.0\n66.0\n66.0\n66.0\n56.0\n56.0\n56.0\n56.0\n56.0\n58.0\n72.0\n72.0\n72.0\n58.0\n58.0\n58.0\n66.0\n66.0\n66.0\n66.0\n66.0\n72.0\n72.0\n72.0\n72.0\n71.0\n71.0\n71.0\n71.0\n71.0\n71.0\n55.0\n55.0\n66.0\n72.0\n72.0\n72.0\n72.0\n72.0\n66.0\n66.0\n66.0\n66.0\n66.0\n66.0\n73.0\n57.0\n57.0\n57.0\n57.0\n57.0\n57.0\n57.0\n57.0\n57.0\n57.0\n57.0\n57.0\n57.0\n57.0\n57.0\n57.0\n57.0\n58.0\n58.0\n58.0\n58.0\n58.0\n58.0\n57.0\n57.0\n57.0\n57.0\n57.0\n57.0\n57.0\n57.0\n57.0\n57.0\n57.0\n57.0\n57.0\n57.0\n65.0\n820.0\n65.0\n820.0\n65.0\n820.0\n820.0\n820.0\n65.0\n820.0\n820.0\n820.0\n820.0\n820.0\n66.0\n66.0\n66.0\n730.0\n730.0\n730.0\n730.0\n730.0\n730.0\n730.0\n730.0\n730.0\n56.0\n56.0\n56.0\n56.0\n56.0\n56.0\n56.0\n56.0\n56.0\n56.0\n56.0\n56.0\n56.0\n56.0\n820.0\n820.0\n820.0\n820.0\n820.0\n820.0\n820.0\n820.0\n820.0\n820.0\n55.0\n55.0\n55.0\n55.0\n55.0\n55.0\n55.0\n55.0\n55.0\n55.0\n55.0\n55.0\n55.0\n55.0\n55.0\n55.0\n66.0\n66.0\n66.0\n66.0\n66.0\n66.0\n66.0\n66.0\n66.0\n66.0\n66.0\n66.0\n66.0\n66.0\n66.0\n66.0\n66.0\n66.0\n66.0\n66.0\n66.0\n55.0\n55.0\n55.0\n55.0\n55.0\n55.0\n55.0\n55.0\n55.0\n55.0\n55.0\n55.0\n55.0\n56.0\n56.0\n56.0\n56.0\n56.0\n56.0\n56.0\n56.0\n56.0\n56.0\n56.0\n56.0\n"
    }
   ],
   "source": [
    "#cars.HEIGHT.loc[cars.HEIGHT >= 400] = cars.HEIGHT.loc[cars.HEIGHT >= 400] / 100\n",
    "big_bois = cars.HEIGHT.loc[cars.HEIGHT >= 400]\n",
    "for item in cars.HEIGHT[big_bois]:\n",
    "    cars.HEIGHT[item] = item/100\n",
    "    if(item > 200):\n",
    "        cars.HEIGHT[item] = item/1000\n"
   ]
  },
  {
   "cell_type": "code",
   "execution_count": null,
   "metadata": {},
   "outputs": [],
   "source": []
  }
 ],
 "metadata": {
  "kernelspec": {
   "display_name": "Python 3",
   "language": "python",
   "name": "python3"
  },
  "language_info": {
   "codemirror_mode": {
    "name": "ipython",
    "version": 3
   },
   "file_extension": ".py",
   "mimetype": "text/x-python",
   "name": "python",
   "nbconvert_exporter": "python",
   "pygments_lexer": "ipython3",
   "version": "3.6.6"
  }
 },
 "nbformat": 4,
 "nbformat_minor": 4
}