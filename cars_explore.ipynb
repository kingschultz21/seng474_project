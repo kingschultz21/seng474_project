{
 "cells": [
  {
   "cell_type": "markdown",
   "metadata": {},
   "source": [
    "# Initial Data Expoloration of Cars Dataset"
   ]
  },
  {
   "cell_type": "markdown",
   "execution_count": null,
   "metadata": {},
   "outputs": [],
   "source": [
    "### Load required packages"
   ]
  },
  {
   "cell_type": "code",
   "execution_count": 1,
   "metadata": {},
   "outputs": [],
   "source": [
    "import os\n",
    "import pandas as pd\n",
    "import numpy as np\n",
    "import matplotlib.pyplot as plt\n",
    "import seaborn as sns"
   ]
  },
  {
   "cell_type": "markdown",
   "metadata": {},
   "source": [
    "### Read in Processed Cars dataset\n",
    "(Original dataset 'fullspecs.csv' Processed using data_cleaner.py)"
   ]
  },
  {
   "cell_type": "code",
   "execution_count": 54,
   "metadata": {},
   "outputs": [],
   "source": [
    "cwd = os.getcwd()\n",
    "cars = pd.read_csv(cwd+\"/car_data/proc_cars.csv\")\n",
    "cars = cars.drop(columns = ['Unnamed: 0'])"
   ]
  },
  {
   "cell_type": "markdown",
   "execution_count": null,
   "metadata": {},
   "outputs": [],
   "source": [
    "### Explore Cars data"
   ]
  },
  {
   "cell_type": "code",
   "execution_count": 29,
   "metadata": {},
   "outputs": [
    {
     "data": {
      "text/plain": "MSRP                                 float64\nPASSCAPACITY                         float64\nDOORS                                float64\nWHEELBASE                            float64\nWIDTH                                float64\n                                      ...   \nENGINE_twinturbopremiumunleadedh6      int64\nENGINE_twinturbopremiumunleadedi6      int64\nENGINE_twinturbopremiumunleadedv6      int64\nENGINE_twinturbopremiumunleadedv8      int64\nENGINE_twinturboregularunleadedv6      int64\nLength: 942, dtype: object"
     },
     "execution_count": 29,
     "metadata": {},
     "output_type": "execute_result"
    }
   ],
   "source": [
    "#data types in df\n",
    "cars.dtypes"
   ]
  },
  {
   "cell_type": "code",
   "execution_count": 30,
   "metadata": {},
   "outputs": [
    {
     "data": {
      "text/plain": "MSRP                                 float64\nPASSCAPACITY                         float64\nDOORS                                float64\nWHEELBASE                            float64\nWIDTH                                float64\n                                      ...   \nENGINE_twinturbopremiumunleadedh6      int64\nENGINE_twinturbopremiumunleadedi6      int64\nENGINE_twinturbopremiumunleadedv6      int64\nENGINE_twinturbopremiumunleadedv8      int64\nENGINE_twinturboregularunleadedv6      int64\nLength: 942, dtype: object"
     },
     "execution_count": 30,
     "metadata": {},
     "output_type": "execute_result"
    }
   ],
   "source": [
    "#accessing encoded variables\n",
    "cars.dtypes# for label encoder\n",
    "#cars['DRIVETRAIN_fwd'].value_counts() # for binary encoder\n",
    "\n",
    "\n"
   ]
  },
  {
   "cell_type": "code",
   "execution_count": 55,
   "metadata": {},
   "outputs": [
    {
     "name": "stdout",
     "output_type": "stream",
     "text": "[]\n0\n"
    }
   ],
   "source": [
    "pricy_bois = []\n",
    "count = 0\n",
    "for col in cars.columns:\n",
    "    cars[col].var()\n",
    "\n",
    "#cars.HEIGHT = cars.HEIGHT.replace('[^\\d\\.]*','',regex=True)\n",
    "#cars.HEIGHT.unique()\n"
   ]
  },
  {
   "cell_type": "code",
   "execution_count": null,
   "metadata": {},
   "outputs": [],
   "source": []
  }
 ],
 "metadata": {
  "kernelspec": {
   "display_name": "Python 3",
   "language": "python",
   "name": "python3"
  },
  "language_info": {
   "codemirror_mode": {
    "name": "ipython",
    "version": 3
   },
   "file_extension": ".py",
   "mimetype": "text/x-python",
   "name": "python",
   "nbconvert_exporter": "python",
   "pygments_lexer": "ipython3",
   "version": "3.6.6"
  }
 },
 "nbformat": 4,
 "nbformat_minor": 4
}