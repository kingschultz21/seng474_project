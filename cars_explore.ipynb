{
 "cells": [
  {
   "cell_type": "markdown",
   "metadata": {},
   "source": [
    "# Initial Data Expoloration of Cars Dataset"
   ]
  },
  {
   "cell_type": "markdown",
   "execution_count": null,
   "metadata": {},
   "outputs": [],
   "source": [
    "### Load required packages"
   ]
  },
  {
   "cell_type": "code",
   "execution_count": 1,
   "metadata": {},
   "outputs": [],
   "source": [
    "import os\n",
    "import pandas as pd\n",
    "import numpy as np\n",
    "import matplotlib.pyplot as plt\n",
    "import seaborn as sns"
   ]
  },
  {
   "cell_type": "markdown",
   "metadata": {},
   "source": [
    "### Read in Processed Cars dataset\n",
    "(Original dataset 'fullspecs.csv' Processed using data_cleaner.py)"
   ]
  },
  {
   "cell_type": "code",
   "execution_count": 18,
   "metadata": {},
   "outputs": [],
   "source": [
    "cwd = os.getcwd()\n",
    "cars = pd.read_csv(cwd+\"/car_data/proc_cars.csv\")\n",
    "cars = cars.drop(columns = ['Unnamed: 0'])"
   ]
  },
  {
   "cell_type": "markdown",
   "execution_count": null,
   "metadata": {},
   "outputs": [],
   "source": [
    "### Explore Cars data"
   ]
  },
  {
   "cell_type": "code",
   "execution_count": 19,
   "metadata": {},
   "outputs": [
    {
     "data": {
      "text/plain": "MSRP                   float64\nDRIVETRAIN              object\nPASSCAPACITY           float64\nDOORS                  float64\nBODYSTYLE               object\nTRANSMISSION            object\nWHEELBASE              float64\nWIDTH                  float64\nHEIGHT                 float64\nFUELCAPACITY           float64\nCITYMPG                float64\nHWYMPG                 float64\nTORQUE                 float64\nENGINE                  object\nHORSEPOWER             float64\nDISPLACEMENT           float64\nAIRBAGFRONTDRIVER      float64\nAIRBAGFRONTPASS        float64\nAIRBAGSWITCH           float64\nAIRBAGSIDEBODYFRONT    float64\nAIRBAGSIDEBODYREAR     float64\nAIRBAGSIDEHEADFRONT    float64\nAIRBAGSIDEHEADREAR     float64\nABS                    float64\nCHILDSAFETYLOCK        float64\nDAYTIMERUNLIGHTS       float64\nTRACCONTROL            float64\nNIGHTVISION            float64\nROLLOVERBARS           float64\nFOGLAMPS               float64\nPARKINGAID             float64\nTPS                    float64\nBACKUPCAM              float64\nSTABCONTROL            float64\nDRIVETRAIN_CAT         float64\nBODYSTYLE_CAT          float64\nTRANSMISSION_CAT       float64\nENGINE_CAT             float64\ndtype: object"
     },
     "execution_count": 19,
     "metadata": {},
     "output_type": "execute_result"
    }
   ],
   "source": [
    "#data types in df\n",
    "cars.dtypes"
   ]
  },
  {
   "cell_type": "code",
   "execution_count": 33,
   "metadata": {},
   "outputs": [
    {
     "data": {
      "text/plain": "72.0"
     },
     "execution_count": 33,
     "metadata": {},
     "output_type": "execute_result"
    }
   ],
   "source": [
    "#accessing encoded variables\n",
    "cars['HEIGHT'].median() # for label encoder\n",
    "#cars['DRIVETRAIN_fwd'].value_counts() # for binary encoder\n",
    "\n",
    "\n"
   ]
  },
  {
   "cell_type": "code",
   "execution_count": null,
   "metadata": {},
   "outputs": [],
   "source": []
  }
 ],
 "metadata": {
  "kernelspec": {
   "display_name": "Python 3",
   "language": "python",
   "name": "python3"
  },
  "language_info": {
   "codemirror_mode": {
    "name": "ipython",
    "version": 3
   },
   "file_extension": ".py",
   "mimetype": "text/x-python",
   "name": "python",
   "nbconvert_exporter": "python",
   "pygments_lexer": "ipython3",
   "version": "3.6.6"
  }
 },
 "nbformat": 4,
 "nbformat_minor": 4
}