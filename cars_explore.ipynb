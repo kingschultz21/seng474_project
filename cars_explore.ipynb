{
 "cells": [
  {
   "cell_type": "markdown",
   "metadata": {},
   "source": [
    "# Initial Data Expoloration of Cars Dataset"
   ]
  },
  {
   "cell_type": "markdown",
   "execution_count": null,
   "metadata": {},
   "outputs": [],
   "source": [
    "### Load required packages"
   ]
  },
  {
   "cell_type": "code",
   "execution_count": 3,
   "metadata": {},
   "outputs": [],
   "source": [
    "import os\n",
    "import pandas as pd\n",
    "import numpy as np\n",
    "import matplotlib.pyplot as plt\n",
    "import seaborn as sns"
   ]
  },
  {
   "cell_type": "markdown",
   "metadata": {},
   "source": [
    "### Read in Processed Cars dataset\n",
    "(Original dataset 'fullspecs.csv' Processed using data_cleaner.py)"
   ]
  },
  {
   "cell_type": "code",
   "execution_count": 34,
   "metadata": {},
   "outputs": [],
   "source": [
    "cwd = os.getcwd()\n",
    "cars = pd.read_csv(cwd+\"/car_data/proc_cars.csv\")\n",
    "cars = cars.drop(columns = ['Unnamed: 0'])"
   ]
  },
  {
   "cell_type": "markdown",
   "execution_count": null,
   "metadata": {},
   "outputs": [],
   "source": [
    "### Explore Cars data"
   ]
  },
  {
   "cell_type": "code",
   "execution_count": 35,
   "metadata": {},
   "outputs": [
    {
     "data": {
      "text/plain": "MSRP                            int64\nDRIVETRAIN                     object\nPASSCAPACITY                    int64\nDOORS                           int64\nBODYSTYLE                      object\nTRANSMISSION                   object\nWheelbase (in)                 object\nWidth, Max w/o mirrors (in)    object\nHeight, Overall (in)           object\nFUELCAPACITY                    int64\nCITYMPG                         int64\nHWYMPG                          int64\nTORQUE                          int64\nENGINE                         object\nHORSEPOWER                      int64\nDisplacement                   object\nAIRBAGFRONTDRIVER               int64\nAIRBAGFRONTPASS                 int64\nAIRBAGSWITCH                    int64\nAIRBAGSIDEBODYFRONT             int64\nAIRBAGSIDEBODYREAR              int64\nAIRBAGSIDEHEADFRONT             int64\nAIRBAGSIDEHEADREAR              int64\nABS                             int64\nCHILDSAFETYLOCK                 int64\nDAYTIMERUNLIGHTS                int64\nTRACCONTROL                     int64\nNIGHTVISION                     int64\nROLLOVERBARS                    int64\nFOGLAMPS                        int64\nPARKINGAID                      int64\nTPS                             int64\nBACKUPCAM                       int64\nSTABCONTROL                     int64\nDRIVETRAIN_CAT                  int64\nBODYSTYLE_CAT                   int64\nTRANSMISSION_CAT                int64\nENGINE_CAT                      int64\ndtype: object"
     },
     "execution_count": 35,
     "metadata": {},
     "output_type": "execute_result"
    }
   ],
   "source": [
    "#data types in df\n",
    "cars.dtypes"
   ]
  },
  {
   "cell_type": "code",
   "execution_count": 37,
   "metadata": {},
   "outputs": [
    {
     "data": {
      "text/plain": "3    7367\n4    7013\n2    5094\n1    4786\n0      39\nName: DRIVETRAIN_CAT, dtype: int64"
     },
     "execution_count": 37,
     "metadata": {},
     "output_type": "execute_result"
    }
   ],
   "source": [
    "#accessing encoded variables\n",
    "cars['DRIVETRAIN_CAT'].value_counts() # for label encoder\n",
    "#cars['DRIVETRAIN_fwd'].value_counts() # for binary encoder\n",
    "\n",
    "\n"
   ]
  },
  {
   "cell_type": "code",
   "execution_count": null,
   "metadata": {},
   "outputs": [],
   "source": [
    "cars['Height, Overall (in)']"
   ]
  }
 ],
 "metadata": {
  "kernelspec": {
   "display_name": "Python 3",
   "language": "python",
   "name": "python3"
  },
  "language_info": {
   "codemirror_mode": {
    "name": "ipython",
    "version": 3
   },
   "file_extension": ".py",
   "mimetype": "text/x-python",
   "name": "python",
   "nbconvert_exporter": "python",
   "pygments_lexer": "ipython3",
   "version": "3.6.6"
  }
 },
 "nbformat": 4,
 "nbformat_minor": 4
}