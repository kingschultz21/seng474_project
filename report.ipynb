{
 "nbformat": 4,
 "nbformat_minor": 2,
 "metadata": {
  "language_info": {
   "name": "python",
   "codemirror_mode": {
    "name": "ipython",
    "version": 3
   },
   "version": "3.6.6"
  },
  "orig_nbformat": 2,
  "file_extension": ".py",
  "mimetype": "text/x-python",
  "name": "python",
  "npconvert_exporter": "python",
  "pygments_lexer": "ipython3",
  "version": 3
 },
 "cells": [
  {
   "cell_type": "markdown",
   "execution_count": 1,
   "metadata": {},
   "outputs": [],
   "source": [
    "# Predicting Vehicle MSRP using Multiple Regression Analysis\n",
    "#### By: Connor Schultz and Aiden Bull\n",
    "\n",
    "### 1. Introduction\n",
    "\n",
    "Intro goes here.\n",
    "\n"
   ]
  },
  {
   "cell_type": "markdown",
   "execution_count": null,
   "metadata": {},
   "outputs": [],
   "source": [
    "### 2. Data and Analysis Methods\n",
    "#### 2.1 Data\n",
    "#### 2.2 Analysis Methods"
   ]
  },
  {
   "cell_type": "code",
   "execution_count": 24,
   "metadata": {},
   "outputs": [],
   "source": [
    "# Import required python3 packages\n",
    "import os\n",
    "import numpy as np\n",
    "import pandas as pd\n",
    "import matplotlib.pyplot as plt\n",
    "from sklearn.model_selection import train_test_split\n",
    "from sklearn.linear_model import LinearRegression\n",
    "from sklearn.svm import SVR\n",
    "from sklearn.linear_model import Ridge"
   ]
  },
  {
   "cell_type": "code",
   "execution_count": 11,
   "metadata": {},
   "outputs": [],
   "source": [
    "# Read data in from processed .csv file\n",
    "cwd = os.getcwd()\n",
    "data = pd.read_csv(cwd+\"/car_data/proc_cars.csv\")\n",
    "data = data.drop(columns = ['Unnamed: 0'])"
   ]
  },
  {
   "cell_type": "code",
   "execution_count": 38,
   "metadata": {},
   "outputs": [],
   "source": [
    "# Prepare data for regression analysis\n",
    "y = data['MSRP']\n",
    "X = data.drop(columns = ['MSRP'])\n",
    "X_train, X_test, y_train, y_test = train_test_split(X, y, test_size = 0.25)"
   ]
  },
  {
   "cell_type": "code",
   "execution_count": 50,
   "metadata": {},
   "outputs": [],
   "source": [
    "# Building models\n",
    "#lin = LinearRegression().fit(X_train, y_train)\n",
    "ridge = Ridge().fit(X_train, y_train)\n",
    "#svr = SVR().fit(X_train, y_train)"
   ]
  },
  {
   "cell_type": "code",
   "execution_count": 53,
   "metadata": {},
   "outputs": [],
   "source": [
    "# Prediction\n",
    "errors = []\n",
    "for i in range(0, X_test.shape[0]):\n",
    "    #x_i = lin.predict([X_test.iloc[i, :]])\n",
    "    x_i = ridge.predict([X_test.iloc[i, :]])\n",
    "    #x_i = svm.predict([X_test.iloc[i, :]])\n",
    "\n",
    "    y_i = y_test.iloc[i]\n",
    "    e = abs(x_i - y_i) / y_i\n",
    "    errors.append(e)\n"
   ]
  },
  {
   "cell_type": "markdown",
   "execution_count": null,
   "metadata": {},
   "outputs": [],
   "source": [
    "### 3. Results"
   ]
  },
  {
   "cell_type": "code",
   "execution_count": 15,
   "metadata": {},
   "outputs": [],
   "source": [
    "# =============== Results Section ========================\n",
    "# plots, histograms, statistics, accuracy etc... \n"
   ]
  },
  {
   "cell_type": "code",
   "execution_count": 55,
   "metadata": {},
   "outputs": [
    {
     "name": "stdout",
     "output_type": "stream",
     "text": "Maximum error: 3.663138\nMinimum error: 0.000005\nMean error: 0.096274\n"
    }
   ],
   "source": [
    "# Errors and Accuracy\n",
    "print(\"Maximum error: %f\" % (np.max(errors)))\n",
    "print(\"Minimum error: %f\" % (np.min(errors)))\n",
    "print(\"Mean error: %f\" % (np.mean(errors)))\n"
   ]
  },
  {
   "cell_type": "code",
   "execution_count": 49,
   "metadata": {},
   "outputs": [],
   "source": [
    "# Coefficients\n",
    "#print(lin.coef_)\n",
    "#print(ridge.coef_)\n",
    "#print(svr.coef_)"
   ]
  },
  {
   "cell_type": "code",
   "execution_count": null,
   "metadata": {},
   "outputs": [],
   "source": []
  }
 ]
}